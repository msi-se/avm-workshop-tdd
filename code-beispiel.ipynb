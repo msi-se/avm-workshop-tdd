{
 "cells": [
  {
   "cell_type": "code",
   "execution_count": 1,
   "metadata": {},
   "outputs": [],
   "source": [
    "# TDD Codebeispiel\n",
    "\n",
    "# Anforderung (Schritt 0)\n",
    "# Es ist eine Funktion benötigt, die die Zahlen von 1-3 quadrieren kann.\n",
    "# Die Funktion soll als Input eine Zahl entgegennehmen und als Output die quadrierte Zahl zurückgeben.\n",
    "# Die Funktion soll den Namen \"square\" haben."
   ]
  },
  {
   "cell_type": "code",
   "execution_count": 2,
   "metadata": {},
   "outputs": [
    {
     "ename": "NameError",
     "evalue": "name 'square' is not defined",
     "output_type": "error",
     "traceback": [
      "\u001b[0;31m---------------------------------------------------------------------------\u001b[0m",
      "\u001b[0;31mNameError\u001b[0m                                 Traceback (most recent call last)",
      "Cell \u001b[0;32mIn[2], line 5\u001b[0m\n\u001b[1;32m      1\u001b[0m \u001b[38;5;66;03m# Testfälle (Schritt 1 \"RED\")\u001b[39;00m\n\u001b[1;32m      2\u001b[0m \u001b[38;5;66;03m# 1. Testfall: Die Funktion soll die Zahl 1 quadrieren können.\u001b[39;00m\n\u001b[1;32m      3\u001b[0m \u001b[38;5;66;03m# 2. Testfall: Die Funktion soll die Zahl 2 quadrieren können.\u001b[39;00m\n\u001b[1;32m      4\u001b[0m \u001b[38;5;66;03m# 3. Testfall: Die Funktion soll die Zahl 3 quadrieren können.\u001b[39;00m\n\u001b[0;32m----> 5\u001b[0m \u001b[38;5;28;01massert\u001b[39;00m(\u001b[43msquare\u001b[49m(\u001b[38;5;241m1\u001b[39m) \u001b[38;5;241m==\u001b[39m \u001b[38;5;241m1\u001b[39m)\n\u001b[1;32m      6\u001b[0m \u001b[38;5;28;01massert\u001b[39;00m(square(\u001b[38;5;241m2\u001b[39m) \u001b[38;5;241m==\u001b[39m \u001b[38;5;241m4\u001b[39m)\n\u001b[1;32m      7\u001b[0m \u001b[38;5;28;01massert\u001b[39;00m(square(\u001b[38;5;241m3\u001b[39m) \u001b[38;5;241m==\u001b[39m \u001b[38;5;241m9\u001b[39m)\n",
      "\u001b[0;31mNameError\u001b[0m: name 'square' is not defined"
     ]
    }
   ],
   "source": [
    "# Testfälle (Schritt 1 \"RED\")\n",
    "# 1. Testfall: Die Funktion soll die Zahl 1 quadrieren können.\n",
    "# 2. Testfall: Die Funktion soll die Zahl 2 quadrieren können.\n",
    "# 3. Testfall: Die Funktion soll die Zahl 3 quadrieren können.\n",
    "assert(square(1) == 1)\n",
    "assert(square(2) == 4)\n",
    "assert(square(3) == 9)"
   ]
  },
  {
   "cell_type": "code",
   "execution_count": null,
   "metadata": {},
   "outputs": [],
   "source": [
    "# Implementierung (Schritt 2 \"GREEN\")\n",
    "def square(number):\n",
    "    if number == 1:\n",
    "        return 1\n",
    "    elif number == 2:\n",
    "        return 4\n",
    "    elif number == 3:\n",
    "        return 9\n",
    "\n",
    "assert(square(1) == 1)\n",
    "assert(square(2) == 4)\n",
    "assert(square(3) == 9)"
   ]
  },
  {
   "cell_type": "code",
   "execution_count": null,
   "metadata": {},
   "outputs": [],
   "source": [
    "# Refactoring (Schritt 3 \"REFACTOR\")\n",
    "def square(number):\n",
    "    return number * number\n",
    "\n",
    "assert(square(1) == 1)\n",
    "assert(square(2) == 4)\n",
    "assert(square(3) == 9)"
   ]
  }
 ],
 "metadata": {
  "kernelspec": {
   "display_name": "Python 3",
   "language": "python",
   "name": "python3"
  },
  "language_info": {
   "codemirror_mode": {
    "name": "ipython",
    "version": 3
   },
   "file_extension": ".py",
   "mimetype": "text/x-python",
   "name": "python",
   "nbconvert_exporter": "python",
   "pygments_lexer": "ipython3",
   "version": "3.10.13"
  }
 },
 "nbformat": 4,
 "nbformat_minor": 2
}
